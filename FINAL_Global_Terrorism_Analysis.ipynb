{
  "nbformat": 4,
  "nbformat_minor": 0,
  "metadata": {
    "colab": {
      "name": "FINAL Global  Terrorism Analysis.ipynb",
      "provenance": [],
      "authorship_tag": "ABX9TyNRmxolu8WTFEWZvnDnj5aK",
      "include_colab_link": true
    },
    "kernelspec": {
      "name": "python3",
      "display_name": "Python 3"
    },
    "language_info": {
      "name": "python"
    }
  },
  "cells": [
    {
      "cell_type": "markdown",
      "metadata": {
        "id": "view-in-github",
        "colab_type": "text"
      },
      "source": [
        "<a href=\"https://colab.research.google.com/github/raushan9jnv/Global-Terrorism-Analysis/blob/main/FINAL_Global_Terrorism_Analysis.ipynb\" target=\"_parent\"><img src=\"https://colab.research.google.com/assets/colab-badge.svg\" alt=\"Open In Colab\"/></a>"
      ]
    },
    {
      "cell_type": "code",
      "metadata": {
        "id": "DKl29E98OPVb"
      },
      "source": [
        "import pandas as pd\n",
        "import numpy as np\n",
        "import seaborn as sns\n",
        "import matplotlib.pyplot as plt"
      ],
      "execution_count": null,
      "outputs": []
    },
    {
      "cell_type": "markdown",
      "metadata": {
        "id": "OMlUrS2HP7zy"
      },
      "source": [
        "**Accessing the data**\n",
        "> Mounting the data from Google drive"
      ]
    },
    {
      "cell_type": "code",
      "metadata": {
        "colab": {
          "base_uri": "https://localhost:8080/"
        },
        "id": "JI3G9tjEOyvn",
        "outputId": "93e3db0a-4831-49b3-aaf1-4fcb135b06fc"
      },
      "source": [
        "from google.colab import drive\n",
        "drive.mount('/content/drive')"
      ],
      "execution_count": null,
      "outputs": [
        {
          "output_type": "stream",
          "text": [
            "Drive already mounted at /content/drive; to attempt to forcibly remount, call drive.mount(\"/content/drive\", force_remount=True).\n"
          ],
          "name": "stdout"
        }
      ]
    },
    {
      "cell_type": "code",
      "metadata": {
        "id": "n4PgHGXEOlKu"
      },
      "source": [
        "file_path = '/content/drive/MyDrive/Data Science/Python/Global Terrorism analysis/Global Terrorism Data.csv'"
      ],
      "execution_count": null,
      "outputs": []
    },
    {
      "cell_type": "code",
      "metadata": {
        "id": "u5IGTvcfOlOO"
      },
      "source": [
        "df = pd.read_csv(file_path,encoding=\"ISO-8859-1\",engine='python')"
      ],
      "execution_count": null,
      "outputs": []
    },
    {
      "cell_type": "markdown",
      "metadata": {
        "id": "tYqKhHe6Qifr"
      },
      "source": [
        "**Reading the dataset**\n",
        "> First we try to read the data from every aspect like Total no of columns, Total no of rows, DataType in each column, Null values, Duplicate values and WHAT DATA TALKING ABOUT. \n",
        " this small analysis will give us a generalized idea about with what types of data we dealing.\n",
        " > let's do it :)"
      ]
    },
    {
      "cell_type": "markdown",
      "metadata": {
        "id": "5mseeDCKTwXT"
      },
      "source": [
        "*Access full Dataset*"
      ]
    },
    {
      "cell_type": "code",
      "metadata": {
        "id": "SYrL43T3OlPX"
      },
      "source": [
        "df"
      ],
      "execution_count": null,
      "outputs": []
    },
    {
      "cell_type": "markdown",
      "metadata": {
        "id": "9tty4vmSUIR6"
      },
      "source": [
        "**First 5 rows of our DataFrame**\n",
        "> our data is comparably big i.e. 181691 rows, so it will be a good pratice to see small set of rows"
      ]
    },
    {
      "cell_type": "code",
      "metadata": {
        "id": "JxvYuLcQOlTL"
      },
      "source": [
        "df.head()"
      ],
      "execution_count": null,
      "outputs": []
    },
    {
      "cell_type": "markdown",
      "metadata": {
        "id": "8hAJTIU6VnSA"
      },
      "source": [
        "**Dimension of dataset**"
      ]
    },
    {
      "cell_type": "code",
      "metadata": {
        "colab": {
          "base_uri": "https://localhost:8080/"
        },
        "id": "U4KVgZumVwEy",
        "outputId": "b6dc4b9d-4275-4eec-9542-17133fc3494b"
      },
      "source": [
        "df.shape"
      ],
      "execution_count": null,
      "outputs": [
        {
          "output_type": "execute_result",
          "data": {
            "text/plain": [
              "(181691, 135)"
            ]
          },
          "metadata": {
            "tags": []
          },
          "execution_count": 27
        }
      ]
    },
    {
      "cell_type": "markdown",
      "metadata": {
        "id": "xoR41kMBWOvT"
      },
      "source": [
        "From above we saw their total 181691 ROWS and 135 COLUMNS. \n",
        "> Now let's see which type of information stored in columns."
      ]
    },
    {
      "cell_type": "markdown",
      "metadata": {
        "id": "Sl8lstPqXJPy"
      },
      "source": [
        "**Columns Values**"
      ]
    },
    {
      "cell_type": "code",
      "metadata": {
        "colab": {
          "base_uri": "https://localhost:8080/"
        },
        "id": "0xai3m1hXFbV",
        "outputId": "0e72f8a7-e496-43e6-a64d-b02d6a2efecd"
      },
      "source": [
        "df.columns  "
      ],
      "execution_count": null,
      "outputs": [
        {
          "output_type": "execute_result",
          "data": {
            "text/plain": [
              "Index(['eventid', 'iyear', 'imonth', 'iday', 'approxdate', 'extended',\n",
              "       'resolution', 'country', 'country_txt', 'region',\n",
              "       ...\n",
              "       'addnotes', 'scite1', 'scite2', 'scite3', 'dbsource', 'INT_LOG',\n",
              "       'INT_IDEO', 'INT_MISC', 'INT_ANY', 'related'],\n",
              "      dtype='object', length=135)"
            ]
          },
          "metadata": {
            "tags": []
          },
          "execution_count": 37
        }
      ]
    },
    {
      "cell_type": "code",
      "metadata": {
        "id": "S_6YaRSjczl5"
      },
      "source": [
        "#Print full column Names\n",
        "df.columns.tolist() "
      ],
      "execution_count": null,
      "outputs": []
    },
    {
      "cell_type": "markdown",
      "metadata": {
        "id": "PoGKKltleIm8"
      },
      "source": [
        "**DataTypes of each column**"
      ]
    },
    {
      "cell_type": "code",
      "metadata": {
        "id": "op_4PrDEeWDx"
      },
      "source": [
        "df.dtypes"
      ],
      "execution_count": null,
      "outputs": []
    },
    {
      "cell_type": "code",
      "metadata": {
        "id": "GutMoT6YduFI"
      },
      "source": [
        "df.dtypes.tolist()"
      ],
      "execution_count": null,
      "outputs": []
    },
    {
      "cell_type": "markdown",
      "metadata": {
        "id": "NQjq6kAQepBZ"
      },
      "source": [
        "**Full summary of DataSet**"
      ]
    },
    {
      "cell_type": "code",
      "metadata": {
        "id": "pxvnnuOGeuhg"
      },
      "source": [
        "df.describe()"
      ],
      "execution_count": null,
      "outputs": []
    },
    {
      "cell_type": "code",
      "metadata": {
        "id": "k7hgbW2MfaRp"
      },
      "source": [
        "df.info()"
      ],
      "execution_count": null,
      "outputs": []
    },
    {
      "cell_type": "markdown",
      "metadata": {
        "id": "v7yGiZ64hZxY"
      },
      "source": [
        "**Null Values in DataFrame**"
      ]
    },
    {
      "cell_type": "code",
      "metadata": {
        "id": "Vw032gwcf2Kp"
      },
      "source": [
        "df.isnull()\n"
      ],
      "execution_count": null,
      "outputs": []
    },
    {
      "cell_type": "code",
      "metadata": {
        "id": "RDq4bwedgUg4"
      },
      "source": [
        "df.isnull().sum()"
      ],
      "execution_count": null,
      "outputs": []
    },
    {
      "cell_type": "markdown",
      "metadata": {
        "id": "esElzEEohiYj"
      },
      "source": [
        "**Total Number of Null Values**"
      ]
    },
    {
      "cell_type": "code",
      "metadata": {
        "colab": {
          "base_uri": "https://localhost:8080/"
        },
        "id": "lKqzUFwehC6I",
        "outputId": "20bda1c7-1b74-4153-9a71-5fd4add1ef0a"
      },
      "source": [
        "df.isnull().sum().sum()"
      ],
      "execution_count": null,
      "outputs": [
        {
          "output_type": "execute_result",
          "data": {
            "text/plain": [
              "13853997"
            ]
          },
          "metadata": {
            "tags": []
          },
          "execution_count": 66
        }
      ]
    },
    {
      "cell_type": "markdown",
      "metadata": {
        "id": "pE1J6kdXk1QJ"
      },
      "source": [
        "> it quiet intresting,isn't it. we handling such large number of data  and from their 13853997 values are unknow.\n",
        "> Further we drop these all NAN values for our ease and precisely analysis."
      ]
    },
    {
      "cell_type": "markdown",
      "metadata": {
        "id": "rtH8hyNBi-BY"
      },
      "source": [
        "**Years in our DataFrame**"
      ]
    },
    {
      "cell_type": "code",
      "metadata": {
        "id": "_TQOxbqOkJyQ"
      },
      "source": [
        "df.nunique()"
      ],
      "execution_count": null,
      "outputs": []
    },
    {
      "cell_type": "code",
      "metadata": {
        "id": "zQ2uKmPNjEOp"
      },
      "source": [
        "df['iyear'].unique()"
      ],
      "execution_count": null,
      "outputs": []
    },
    {
      "cell_type": "code",
      "metadata": {
        "colab": {
          "base_uri": "https://localhost:8080/"
        },
        "id": "_JCupDs8m21p",
        "outputId": "7405ccd3-69cf-4bf4-c882-56ba44ea78e5"
      },
      "source": [
        "df['iyear'].nunique()"
      ],
      "execution_count": null,
      "outputs": [
        {
          "output_type": "execute_result",
          "data": {
            "text/plain": [
              "47"
            ]
          },
          "metadata": {
            "tags": []
          },
          "execution_count": 76
        }
      ]
    },
    {
      "cell_type": "markdown",
      "metadata": {
        "id": "lnEO82aSm0rD"
      },
      "source": [
        "> This cell clearly conclude that we have to work on total 47 Years from taking 1970 to 2017. this all was years of attack on different region."
      ]
    },
    {
      "cell_type": "markdown",
      "metadata": {
        "id": "P3oi4Yfqmsnc"
      },
      "source": [
        "**WHAT WE OBSERVE TILL NOW**"
      ]
    },
    {
      "cell_type": "markdown",
      "metadata": {
        "id": "rZwKof9Mplni"
      },
      "source": [
        "> 1. Their total 181691 rows and 135 columns.  ==> large data information\n",
        ">2.  We have to deal with all three general types of datatype ==> int64, float64 and object\n",
        "> 3. Most of columns are irrelevent repect to our analysis  ==>  we drop them further\n",
        "> 4.  So many NAN and Unknow values i.e. 13853997 ==> we also drop them\n",
        "> 5. Total 47 years  data information ==> 1970 to 2017"
      ]
    },
    {
      "cell_type": "markdown",
      "metadata": {
        "id": "FSsPkjHSp2uR"
      },
      "source": [
        "#PRE-PROCESSINNG OF DATA"
      ]
    },
    {
      "cell_type": "markdown",
      "metadata": {
        "id": "q1EHDYLUBcUm"
      },
      "source": [
        "**Dropping Columns**"
      ]
    },
    {
      "cell_type": "markdown",
      "metadata": {
        "id": "eSeTt6knBq4N"
      },
      "source": [
        "> keep the columns which are relevate to us and drop rest."
      ]
    },
    {
      "cell_type": "code",
      "metadata": {
        "colab": {
          "base_uri": "https://localhost:8080/"
        },
        "id": "NjNTPiRep1I3",
        "outputId": "b6aaa711-7ae3-4edb-fe46-1f64bc68b8a4"
      },
      "source": [
        "usecolumns = {1,5,8,10,11,12,13,14,25,26,27,29,35,58,69,71,82,98,100,101,103,104,106}\n",
        "df = pd.read_csv(file_path,encoding=\"ISO-8859-1\",engine='python',usecols=usecolumns)\n",
        "print('we successfully reduce column from 135 to 23')"
      ],
      "execution_count": null,
      "outputs": [
        {
          "output_type": "stream",
          "text": [
            "we successfully reduce column from 135 to 23\n"
          ],
          "name": "stdout"
        }
      ]
    },
    {
      "cell_type": "code",
      "metadata": {
        "colab": {
          "base_uri": "https://localhost:8080/",
          "height": 744
        },
        "id": "1A6fmqfXyMYV",
        "outputId": "d0505ade-c7a4-401d-f5a0-5b9504001d4c"
      },
      "source": [
        "df"
      ],
      "execution_count": null,
      "outputs": [
        {
          "output_type": "execute_result",
          "data": {
            "text/html": [
              "<div>\n",
              "<style scoped>\n",
              "    .dataframe tbody tr th:only-of-type {\n",
              "        vertical-align: middle;\n",
              "    }\n",
              "\n",
              "    .dataframe tbody tr th {\n",
              "        vertical-align: top;\n",
              "    }\n",
              "\n",
              "    .dataframe thead th {\n",
              "        text-align: right;\n",
              "    }\n",
              "</style>\n",
              "<table border=\"1\" class=\"dataframe\">\n",
              "  <thead>\n",
              "    <tr style=\"text-align: right;\">\n",
              "      <th></th>\n",
              "      <th>iyear</th>\n",
              "      <th>extended</th>\n",
              "      <th>country_txt</th>\n",
              "      <th>region_txt</th>\n",
              "      <th>provstate</th>\n",
              "      <th>city</th>\n",
              "      <th>latitude</th>\n",
              "      <th>longitude</th>\n",
              "      <th>multiple</th>\n",
              "      <th>success</th>\n",
              "      <th>suicide</th>\n",
              "      <th>attacktype1_txt</th>\n",
              "      <th>targtype1_txt</th>\n",
              "      <th>gname</th>\n",
              "      <th>nperps</th>\n",
              "      <th>claimed</th>\n",
              "      <th>weaptype1_txt</th>\n",
              "      <th>nkill</th>\n",
              "      <th>nkillter</th>\n",
              "      <th>nwound</th>\n",
              "      <th>nwoundte</th>\n",
              "      <th>property</th>\n",
              "      <th>propextent_txt</th>\n",
              "    </tr>\n",
              "  </thead>\n",
              "  <tbody>\n",
              "    <tr>\n",
              "      <th>0</th>\n",
              "      <td>1970</td>\n",
              "      <td>0</td>\n",
              "      <td>Dominican Republic</td>\n",
              "      <td>Central America &amp; Caribbean</td>\n",
              "      <td>NaN</td>\n",
              "      <td>Santo Domingo</td>\n",
              "      <td>18.456792</td>\n",
              "      <td>-69.951164</td>\n",
              "      <td>0.0</td>\n",
              "      <td>1</td>\n",
              "      <td>0</td>\n",
              "      <td>Assassination</td>\n",
              "      <td>Private Citizens &amp; Property</td>\n",
              "      <td>MANO-D</td>\n",
              "      <td>NaN</td>\n",
              "      <td>NaN</td>\n",
              "      <td>Unknown</td>\n",
              "      <td>1.0</td>\n",
              "      <td>NaN</td>\n",
              "      <td>0.0</td>\n",
              "      <td>NaN</td>\n",
              "      <td>0</td>\n",
              "      <td>NaN</td>\n",
              "    </tr>\n",
              "    <tr>\n",
              "      <th>1</th>\n",
              "      <td>1970</td>\n",
              "      <td>0</td>\n",
              "      <td>Mexico</td>\n",
              "      <td>North America</td>\n",
              "      <td>Federal</td>\n",
              "      <td>Mexico city</td>\n",
              "      <td>19.371887</td>\n",
              "      <td>-99.086624</td>\n",
              "      <td>0.0</td>\n",
              "      <td>1</td>\n",
              "      <td>0</td>\n",
              "      <td>Hostage Taking (Kidnapping)</td>\n",
              "      <td>Government (Diplomatic)</td>\n",
              "      <td>23rd of September Communist League</td>\n",
              "      <td>7.0</td>\n",
              "      <td>NaN</td>\n",
              "      <td>Unknown</td>\n",
              "      <td>0.0</td>\n",
              "      <td>NaN</td>\n",
              "      <td>0.0</td>\n",
              "      <td>NaN</td>\n",
              "      <td>0</td>\n",
              "      <td>NaN</td>\n",
              "    </tr>\n",
              "    <tr>\n",
              "      <th>2</th>\n",
              "      <td>1970</td>\n",
              "      <td>0</td>\n",
              "      <td>Philippines</td>\n",
              "      <td>Southeast Asia</td>\n",
              "      <td>Tarlac</td>\n",
              "      <td>Unknown</td>\n",
              "      <td>15.478598</td>\n",
              "      <td>120.599741</td>\n",
              "      <td>0.0</td>\n",
              "      <td>1</td>\n",
              "      <td>0</td>\n",
              "      <td>Assassination</td>\n",
              "      <td>Journalists &amp; Media</td>\n",
              "      <td>Unknown</td>\n",
              "      <td>NaN</td>\n",
              "      <td>NaN</td>\n",
              "      <td>Unknown</td>\n",
              "      <td>1.0</td>\n",
              "      <td>NaN</td>\n",
              "      <td>0.0</td>\n",
              "      <td>NaN</td>\n",
              "      <td>0</td>\n",
              "      <td>NaN</td>\n",
              "    </tr>\n",
              "    <tr>\n",
              "      <th>3</th>\n",
              "      <td>1970</td>\n",
              "      <td>0</td>\n",
              "      <td>Greece</td>\n",
              "      <td>Western Europe</td>\n",
              "      <td>Attica</td>\n",
              "      <td>Athens</td>\n",
              "      <td>37.997490</td>\n",
              "      <td>23.762728</td>\n",
              "      <td>0.0</td>\n",
              "      <td>1</td>\n",
              "      <td>0</td>\n",
              "      <td>Bombing/Explosion</td>\n",
              "      <td>Government (Diplomatic)</td>\n",
              "      <td>Unknown</td>\n",
              "      <td>NaN</td>\n",
              "      <td>NaN</td>\n",
              "      <td>Explosives</td>\n",
              "      <td>NaN</td>\n",
              "      <td>NaN</td>\n",
              "      <td>NaN</td>\n",
              "      <td>NaN</td>\n",
              "      <td>1</td>\n",
              "      <td>NaN</td>\n",
              "    </tr>\n",
              "    <tr>\n",
              "      <th>4</th>\n",
              "      <td>1970</td>\n",
              "      <td>0</td>\n",
              "      <td>Japan</td>\n",
              "      <td>East Asia</td>\n",
              "      <td>Fukouka</td>\n",
              "      <td>Fukouka</td>\n",
              "      <td>33.580412</td>\n",
              "      <td>130.396361</td>\n",
              "      <td>0.0</td>\n",
              "      <td>1</td>\n",
              "      <td>0</td>\n",
              "      <td>Facility/Infrastructure Attack</td>\n",
              "      <td>Government (Diplomatic)</td>\n",
              "      <td>Unknown</td>\n",
              "      <td>NaN</td>\n",
              "      <td>NaN</td>\n",
              "      <td>Incendiary</td>\n",
              "      <td>NaN</td>\n",
              "      <td>NaN</td>\n",
              "      <td>NaN</td>\n",
              "      <td>NaN</td>\n",
              "      <td>1</td>\n",
              "      <td>NaN</td>\n",
              "    </tr>\n",
              "    <tr>\n",
              "      <th>...</th>\n",
              "      <td>...</td>\n",
              "      <td>...</td>\n",
              "      <td>...</td>\n",
              "      <td>...</td>\n",
              "      <td>...</td>\n",
              "      <td>...</td>\n",
              "      <td>...</td>\n",
              "      <td>...</td>\n",
              "      <td>...</td>\n",
              "      <td>...</td>\n",
              "      <td>...</td>\n",
              "      <td>...</td>\n",
              "      <td>...</td>\n",
              "      <td>...</td>\n",
              "      <td>...</td>\n",
              "      <td>...</td>\n",
              "      <td>...</td>\n",
              "      <td>...</td>\n",
              "      <td>...</td>\n",
              "      <td>...</td>\n",
              "      <td>...</td>\n",
              "      <td>...</td>\n",
              "      <td>...</td>\n",
              "    </tr>\n",
              "    <tr>\n",
              "      <th>181686</th>\n",
              "      <td>2017</td>\n",
              "      <td>0</td>\n",
              "      <td>Somalia</td>\n",
              "      <td>Sub-Saharan Africa</td>\n",
              "      <td>Middle Shebelle</td>\n",
              "      <td>Ceelka Geelow</td>\n",
              "      <td>2.359673</td>\n",
              "      <td>45.385034</td>\n",
              "      <td>0.0</td>\n",
              "      <td>1</td>\n",
              "      <td>0</td>\n",
              "      <td>Armed Assault</td>\n",
              "      <td>Military</td>\n",
              "      <td>Al-Shabaab</td>\n",
              "      <td>-99.0</td>\n",
              "      <td>1.0</td>\n",
              "      <td>Firearms</td>\n",
              "      <td>1.0</td>\n",
              "      <td>0.0</td>\n",
              "      <td>2.0</td>\n",
              "      <td>0.0</td>\n",
              "      <td>-9</td>\n",
              "      <td>NaN</td>\n",
              "    </tr>\n",
              "    <tr>\n",
              "      <th>181687</th>\n",
              "      <td>2017</td>\n",
              "      <td>0</td>\n",
              "      <td>Syria</td>\n",
              "      <td>Middle East &amp; North Africa</td>\n",
              "      <td>Lattakia</td>\n",
              "      <td>Jableh</td>\n",
              "      <td>35.407278</td>\n",
              "      <td>35.942679</td>\n",
              "      <td>0.0</td>\n",
              "      <td>1</td>\n",
              "      <td>0</td>\n",
              "      <td>Bombing/Explosion</td>\n",
              "      <td>Military</td>\n",
              "      <td>Muslim extremists</td>\n",
              "      <td>-99.0</td>\n",
              "      <td>0.0</td>\n",
              "      <td>Explosives</td>\n",
              "      <td>2.0</td>\n",
              "      <td>0.0</td>\n",
              "      <td>7.0</td>\n",
              "      <td>0.0</td>\n",
              "      <td>1</td>\n",
              "      <td>Unknown</td>\n",
              "    </tr>\n",
              "    <tr>\n",
              "      <th>181688</th>\n",
              "      <td>2017</td>\n",
              "      <td>0</td>\n",
              "      <td>Philippines</td>\n",
              "      <td>Southeast Asia</td>\n",
              "      <td>Maguindanao</td>\n",
              "      <td>Kubentog</td>\n",
              "      <td>6.900742</td>\n",
              "      <td>124.437908</td>\n",
              "      <td>0.0</td>\n",
              "      <td>1</td>\n",
              "      <td>0</td>\n",
              "      <td>Facility/Infrastructure Attack</td>\n",
              "      <td>Private Citizens &amp; Property</td>\n",
              "      <td>Bangsamoro Islamic Freedom Movement (BIFM)</td>\n",
              "      <td>-99.0</td>\n",
              "      <td>0.0</td>\n",
              "      <td>Incendiary</td>\n",
              "      <td>0.0</td>\n",
              "      <td>0.0</td>\n",
              "      <td>0.0</td>\n",
              "      <td>0.0</td>\n",
              "      <td>1</td>\n",
              "      <td>Unknown</td>\n",
              "    </tr>\n",
              "    <tr>\n",
              "      <th>181689</th>\n",
              "      <td>2017</td>\n",
              "      <td>0</td>\n",
              "      <td>India</td>\n",
              "      <td>South Asia</td>\n",
              "      <td>Manipur</td>\n",
              "      <td>Imphal</td>\n",
              "      <td>24.798346</td>\n",
              "      <td>93.940430</td>\n",
              "      <td>0.0</td>\n",
              "      <td>0</td>\n",
              "      <td>0</td>\n",
              "      <td>Bombing/Explosion</td>\n",
              "      <td>Government (General)</td>\n",
              "      <td>Unknown</td>\n",
              "      <td>-99.0</td>\n",
              "      <td>0.0</td>\n",
              "      <td>Explosives</td>\n",
              "      <td>0.0</td>\n",
              "      <td>0.0</td>\n",
              "      <td>0.0</td>\n",
              "      <td>0.0</td>\n",
              "      <td>-9</td>\n",
              "      <td>NaN</td>\n",
              "    </tr>\n",
              "    <tr>\n",
              "      <th>181690</th>\n",
              "      <td>2017</td>\n",
              "      <td>0</td>\n",
              "      <td>Philippines</td>\n",
              "      <td>Southeast Asia</td>\n",
              "      <td>Maguindanao</td>\n",
              "      <td>Cotabato City</td>\n",
              "      <td>7.209594</td>\n",
              "      <td>124.241966</td>\n",
              "      <td>0.0</td>\n",
              "      <td>0</td>\n",
              "      <td>0</td>\n",
              "      <td>Bombing/Explosion</td>\n",
              "      <td>Unknown</td>\n",
              "      <td>Unknown</td>\n",
              "      <td>-99.0</td>\n",
              "      <td>0.0</td>\n",
              "      <td>Explosives</td>\n",
              "      <td>0.0</td>\n",
              "      <td>0.0</td>\n",
              "      <td>0.0</td>\n",
              "      <td>0.0</td>\n",
              "      <td>0</td>\n",
              "      <td>NaN</td>\n",
              "    </tr>\n",
              "  </tbody>\n",
              "</table>\n",
              "<p>181691 rows × 23 columns</p>\n",
              "</div>"
            ],
            "text/plain": [
              "        iyear  extended         country_txt                   region_txt  \\\n",
              "0        1970         0  Dominican Republic  Central America & Caribbean   \n",
              "1        1970         0              Mexico                North America   \n",
              "2        1970         0         Philippines               Southeast Asia   \n",
              "3        1970         0              Greece               Western Europe   \n",
              "4        1970         0               Japan                    East Asia   \n",
              "...       ...       ...                 ...                          ...   \n",
              "181686   2017         0             Somalia           Sub-Saharan Africa   \n",
              "181687   2017         0               Syria   Middle East & North Africa   \n",
              "181688   2017         0         Philippines               Southeast Asia   \n",
              "181689   2017         0               India                   South Asia   \n",
              "181690   2017         0         Philippines               Southeast Asia   \n",
              "\n",
              "              provstate           city   latitude   longitude  multiple  \\\n",
              "0                   NaN  Santo Domingo  18.456792  -69.951164       0.0   \n",
              "1               Federal    Mexico city  19.371887  -99.086624       0.0   \n",
              "2                Tarlac        Unknown  15.478598  120.599741       0.0   \n",
              "3                Attica         Athens  37.997490   23.762728       0.0   \n",
              "4               Fukouka        Fukouka  33.580412  130.396361       0.0   \n",
              "...                 ...            ...        ...         ...       ...   \n",
              "181686  Middle Shebelle  Ceelka Geelow   2.359673   45.385034       0.0   \n",
              "181687         Lattakia         Jableh  35.407278   35.942679       0.0   \n",
              "181688      Maguindanao       Kubentog   6.900742  124.437908       0.0   \n",
              "181689          Manipur         Imphal  24.798346   93.940430       0.0   \n",
              "181690      Maguindanao  Cotabato City   7.209594  124.241966       0.0   \n",
              "\n",
              "        success  suicide                 attacktype1_txt  \\\n",
              "0             1        0                   Assassination   \n",
              "1             1        0     Hostage Taking (Kidnapping)   \n",
              "2             1        0                   Assassination   \n",
              "3             1        0               Bombing/Explosion   \n",
              "4             1        0  Facility/Infrastructure Attack   \n",
              "...         ...      ...                             ...   \n",
              "181686        1        0                   Armed Assault   \n",
              "181687        1        0               Bombing/Explosion   \n",
              "181688        1        0  Facility/Infrastructure Attack   \n",
              "181689        0        0               Bombing/Explosion   \n",
              "181690        0        0               Bombing/Explosion   \n",
              "\n",
              "                      targtype1_txt  \\\n",
              "0       Private Citizens & Property   \n",
              "1           Government (Diplomatic)   \n",
              "2               Journalists & Media   \n",
              "3           Government (Diplomatic)   \n",
              "4           Government (Diplomatic)   \n",
              "...                             ...   \n",
              "181686                     Military   \n",
              "181687                     Military   \n",
              "181688  Private Citizens & Property   \n",
              "181689         Government (General)   \n",
              "181690                      Unknown   \n",
              "\n",
              "                                             gname  nperps  claimed  \\\n",
              "0                                           MANO-D     NaN      NaN   \n",
              "1               23rd of September Communist League     7.0      NaN   \n",
              "2                                          Unknown     NaN      NaN   \n",
              "3                                          Unknown     NaN      NaN   \n",
              "4                                          Unknown     NaN      NaN   \n",
              "...                                            ...     ...      ...   \n",
              "181686                                  Al-Shabaab   -99.0      1.0   \n",
              "181687                           Muslim extremists   -99.0      0.0   \n",
              "181688  Bangsamoro Islamic Freedom Movement (BIFM)   -99.0      0.0   \n",
              "181689                                     Unknown   -99.0      0.0   \n",
              "181690                                     Unknown   -99.0      0.0   \n",
              "\n",
              "       weaptype1_txt  nkill  nkillter  nwound  nwoundte  property  \\\n",
              "0            Unknown    1.0       NaN     0.0       NaN         0   \n",
              "1            Unknown    0.0       NaN     0.0       NaN         0   \n",
              "2            Unknown    1.0       NaN     0.0       NaN         0   \n",
              "3         Explosives    NaN       NaN     NaN       NaN         1   \n",
              "4         Incendiary    NaN       NaN     NaN       NaN         1   \n",
              "...              ...    ...       ...     ...       ...       ...   \n",
              "181686      Firearms    1.0       0.0     2.0       0.0        -9   \n",
              "181687    Explosives    2.0       0.0     7.0       0.0         1   \n",
              "181688    Incendiary    0.0       0.0     0.0       0.0         1   \n",
              "181689    Explosives    0.0       0.0     0.0       0.0        -9   \n",
              "181690    Explosives    0.0       0.0     0.0       0.0         0   \n",
              "\n",
              "       propextent_txt  \n",
              "0                 NaN  \n",
              "1                 NaN  \n",
              "2                 NaN  \n",
              "3                 NaN  \n",
              "4                 NaN  \n",
              "...               ...  \n",
              "181686            NaN  \n",
              "181687        Unknown  \n",
              "181688        Unknown  \n",
              "181689            NaN  \n",
              "181690            NaN  \n",
              "\n",
              "[181691 rows x 23 columns]"
            ]
          },
          "metadata": {
            "tags": []
          },
          "execution_count": 118
        }
      ]
    },
    {
      "cell_type": "code",
      "metadata": {
        "colab": {
          "base_uri": "https://localhost:8080/",
          "height": 359
        },
        "id": "WJaCq6pL0DuH",
        "outputId": "35fd5398-dc55-418d-bf4c-037cb9cf43c5"
      },
      "source": [
        "df.head()"
      ],
      "execution_count": null,
      "outputs": [
        {
          "output_type": "execute_result",
          "data": {
            "text/html": [
              "<div>\n",
              "<style scoped>\n",
              "    .dataframe tbody tr th:only-of-type {\n",
              "        vertical-align: middle;\n",
              "    }\n",
              "\n",
              "    .dataframe tbody tr th {\n",
              "        vertical-align: top;\n",
              "    }\n",
              "\n",
              "    .dataframe thead th {\n",
              "        text-align: right;\n",
              "    }\n",
              "</style>\n",
              "<table border=\"1\" class=\"dataframe\">\n",
              "  <thead>\n",
              "    <tr style=\"text-align: right;\">\n",
              "      <th></th>\n",
              "      <th>iyear</th>\n",
              "      <th>extended</th>\n",
              "      <th>country_txt</th>\n",
              "      <th>region_txt</th>\n",
              "      <th>provstate</th>\n",
              "      <th>city</th>\n",
              "      <th>latitude</th>\n",
              "      <th>longitude</th>\n",
              "      <th>multiple</th>\n",
              "      <th>success</th>\n",
              "      <th>suicide</th>\n",
              "      <th>attacktype1_txt</th>\n",
              "      <th>targtype1_txt</th>\n",
              "      <th>gname</th>\n",
              "      <th>nperps</th>\n",
              "      <th>claimed</th>\n",
              "      <th>weaptype1_txt</th>\n",
              "      <th>nkill</th>\n",
              "      <th>nkillter</th>\n",
              "      <th>nwound</th>\n",
              "      <th>nwoundte</th>\n",
              "      <th>property</th>\n",
              "      <th>propextent_txt</th>\n",
              "    </tr>\n",
              "  </thead>\n",
              "  <tbody>\n",
              "    <tr>\n",
              "      <th>0</th>\n",
              "      <td>1970</td>\n",
              "      <td>0</td>\n",
              "      <td>Dominican Republic</td>\n",
              "      <td>Central America &amp; Caribbean</td>\n",
              "      <td>NaN</td>\n",
              "      <td>Santo Domingo</td>\n",
              "      <td>18.456792</td>\n",
              "      <td>-69.951164</td>\n",
              "      <td>0.0</td>\n",
              "      <td>1</td>\n",
              "      <td>0</td>\n",
              "      <td>Assassination</td>\n",
              "      <td>Private Citizens &amp; Property</td>\n",
              "      <td>MANO-D</td>\n",
              "      <td>NaN</td>\n",
              "      <td>NaN</td>\n",
              "      <td>Unknown</td>\n",
              "      <td>1.0</td>\n",
              "      <td>NaN</td>\n",
              "      <td>0.0</td>\n",
              "      <td>NaN</td>\n",
              "      <td>0</td>\n",
              "      <td>NaN</td>\n",
              "    </tr>\n",
              "    <tr>\n",
              "      <th>1</th>\n",
              "      <td>1970</td>\n",
              "      <td>0</td>\n",
              "      <td>Mexico</td>\n",
              "      <td>North America</td>\n",
              "      <td>Federal</td>\n",
              "      <td>Mexico city</td>\n",
              "      <td>19.371887</td>\n",
              "      <td>-99.086624</td>\n",
              "      <td>0.0</td>\n",
              "      <td>1</td>\n",
              "      <td>0</td>\n",
              "      <td>Hostage Taking (Kidnapping)</td>\n",
              "      <td>Government (Diplomatic)</td>\n",
              "      <td>23rd of September Communist League</td>\n",
              "      <td>7.0</td>\n",
              "      <td>NaN</td>\n",
              "      <td>Unknown</td>\n",
              "      <td>0.0</td>\n",
              "      <td>NaN</td>\n",
              "      <td>0.0</td>\n",
              "      <td>NaN</td>\n",
              "      <td>0</td>\n",
              "      <td>NaN</td>\n",
              "    </tr>\n",
              "    <tr>\n",
              "      <th>2</th>\n",
              "      <td>1970</td>\n",
              "      <td>0</td>\n",
              "      <td>Philippines</td>\n",
              "      <td>Southeast Asia</td>\n",
              "      <td>Tarlac</td>\n",
              "      <td>Unknown</td>\n",
              "      <td>15.478598</td>\n",
              "      <td>120.599741</td>\n",
              "      <td>0.0</td>\n",
              "      <td>1</td>\n",
              "      <td>0</td>\n",
              "      <td>Assassination</td>\n",
              "      <td>Journalists &amp; Media</td>\n",
              "      <td>Unknown</td>\n",
              "      <td>NaN</td>\n",
              "      <td>NaN</td>\n",
              "      <td>Unknown</td>\n",
              "      <td>1.0</td>\n",
              "      <td>NaN</td>\n",
              "      <td>0.0</td>\n",
              "      <td>NaN</td>\n",
              "      <td>0</td>\n",
              "      <td>NaN</td>\n",
              "    </tr>\n",
              "    <tr>\n",
              "      <th>3</th>\n",
              "      <td>1970</td>\n",
              "      <td>0</td>\n",
              "      <td>Greece</td>\n",
              "      <td>Western Europe</td>\n",
              "      <td>Attica</td>\n",
              "      <td>Athens</td>\n",
              "      <td>37.997490</td>\n",
              "      <td>23.762728</td>\n",
              "      <td>0.0</td>\n",
              "      <td>1</td>\n",
              "      <td>0</td>\n",
              "      <td>Bombing/Explosion</td>\n",
              "      <td>Government (Diplomatic)</td>\n",
              "      <td>Unknown</td>\n",
              "      <td>NaN</td>\n",
              "      <td>NaN</td>\n",
              "      <td>Explosives</td>\n",
              "      <td>NaN</td>\n",
              "      <td>NaN</td>\n",
              "      <td>NaN</td>\n",
              "      <td>NaN</td>\n",
              "      <td>1</td>\n",
              "      <td>NaN</td>\n",
              "    </tr>\n",
              "    <tr>\n",
              "      <th>4</th>\n",
              "      <td>1970</td>\n",
              "      <td>0</td>\n",
              "      <td>Japan</td>\n",
              "      <td>East Asia</td>\n",
              "      <td>Fukouka</td>\n",
              "      <td>Fukouka</td>\n",
              "      <td>33.580412</td>\n",
              "      <td>130.396361</td>\n",
              "      <td>0.0</td>\n",
              "      <td>1</td>\n",
              "      <td>0</td>\n",
              "      <td>Facility/Infrastructure Attack</td>\n",
              "      <td>Government (Diplomatic)</td>\n",
              "      <td>Unknown</td>\n",
              "      <td>NaN</td>\n",
              "      <td>NaN</td>\n",
              "      <td>Incendiary</td>\n",
              "      <td>NaN</td>\n",
              "      <td>NaN</td>\n",
              "      <td>NaN</td>\n",
              "      <td>NaN</td>\n",
              "      <td>1</td>\n",
              "      <td>NaN</td>\n",
              "    </tr>\n",
              "  </tbody>\n",
              "</table>\n",
              "</div>"
            ],
            "text/plain": [
              "   iyear  extended         country_txt                   region_txt provstate  \\\n",
              "0   1970         0  Dominican Republic  Central America & Caribbean       NaN   \n",
              "1   1970         0              Mexico                North America   Federal   \n",
              "2   1970         0         Philippines               Southeast Asia    Tarlac   \n",
              "3   1970         0              Greece               Western Europe    Attica   \n",
              "4   1970         0               Japan                    East Asia   Fukouka   \n",
              "\n",
              "            city   latitude   longitude  multiple  success  suicide  \\\n",
              "0  Santo Domingo  18.456792  -69.951164       0.0        1        0   \n",
              "1    Mexico city  19.371887  -99.086624       0.0        1        0   \n",
              "2        Unknown  15.478598  120.599741       0.0        1        0   \n",
              "3         Athens  37.997490   23.762728       0.0        1        0   \n",
              "4        Fukouka  33.580412  130.396361       0.0        1        0   \n",
              "\n",
              "                  attacktype1_txt                targtype1_txt  \\\n",
              "0                   Assassination  Private Citizens & Property   \n",
              "1     Hostage Taking (Kidnapping)      Government (Diplomatic)   \n",
              "2                   Assassination          Journalists & Media   \n",
              "3               Bombing/Explosion      Government (Diplomatic)   \n",
              "4  Facility/Infrastructure Attack      Government (Diplomatic)   \n",
              "\n",
              "                                gname  nperps  claimed weaptype1_txt  nkill  \\\n",
              "0                              MANO-D     NaN      NaN       Unknown    1.0   \n",
              "1  23rd of September Communist League     7.0      NaN       Unknown    0.0   \n",
              "2                             Unknown     NaN      NaN       Unknown    1.0   \n",
              "3                             Unknown     NaN      NaN    Explosives    NaN   \n",
              "4                             Unknown     NaN      NaN    Incendiary    NaN   \n",
              "\n",
              "   nkillter  nwound  nwoundte  property propextent_txt  \n",
              "0       NaN     0.0       NaN         0            NaN  \n",
              "1       NaN     0.0       NaN         0            NaN  \n",
              "2       NaN     0.0       NaN         0            NaN  \n",
              "3       NaN     NaN       NaN         1            NaN  \n",
              "4       NaN     NaN       NaN         1            NaN  "
            ]
          },
          "metadata": {
            "tags": []
          },
          "execution_count": 94
        }
      ]
    },
    {
      "cell_type": "markdown",
      "metadata": {
        "id": "B5XsBJ3lC6lI"
      },
      "source": [
        "**Dimension of Updated DataFrame**"
      ]
    },
    {
      "cell_type": "code",
      "metadata": {
        "colab": {
          "base_uri": "https://localhost:8080/"
        },
        "id": "WpFJ2SzYx31K",
        "outputId": "c0a99070-89ca-4156-ce56-4ed053bf64e9"
      },
      "source": [
        "df.shape"
      ],
      "execution_count": null,
      "outputs": [
        {
          "output_type": "execute_result",
          "data": {
            "text/plain": [
              "(181691, 23)"
            ]
          },
          "metadata": {
            "tags": []
          },
          "execution_count": 90
        }
      ]
    },
    {
      "cell_type": "markdown",
      "metadata": {
        "id": "RV4JdidgDKeI"
      },
      "source": [
        "**Columns we keeped**"
      ]
    },
    {
      "cell_type": "code",
      "metadata": {
        "colab": {
          "base_uri": "https://localhost:8080/"
        },
        "id": "oPFcuK2Fygnl",
        "outputId": "daef97ee-8718-42f0-edb8-2fd4c5c27f81"
      },
      "source": [
        "df.columns"
      ],
      "execution_count": null,
      "outputs": [
        {
          "output_type": "execute_result",
          "data": {
            "text/plain": [
              "Index(['iyear', 'extended', 'country_txt', 'region_txt', 'provstate', 'city',\n",
              "       'latitude', 'longitude', 'multiple', 'success', 'suicide',\n",
              "       'attacktype1_txt', 'targtype1_txt', 'gname', 'nperps', 'claimed',\n",
              "       'weaptype1_txt', 'nkill', 'nkillter', 'nwound', 'nwoundte', 'property',\n",
              "       'propextent_txt'],\n",
              "      dtype='object')"
            ]
          },
          "metadata": {
            "tags": []
          },
          "execution_count": 92
        }
      ]
    },
    {
      "cell_type": "markdown",
      "metadata": {
        "id": "8Mxr39WM0h8G"
      },
      "source": [
        "**Remove unknows value in Co-ordinate**"
      ]
    },
    {
      "cell_type": "code",
      "metadata": {
        "colab": {
          "base_uri": "https://localhost:8080/"
        },
        "id": "Dkb7PLGv0NJE",
        "outputId": "ead10d8e-0d44-4f30-f271-937406f103ec"
      },
      "source": [
        "df=df[pd.notnull(df.latitude)]\n",
        "df=df[pd.notnull(df.longitude)]\n",
        "print('unknows value in coordinates are removed successfully')"
      ],
      "execution_count": null,
      "outputs": [
        {
          "output_type": "stream",
          "text": [
            "unknows value in coordinates are removed successfully\n"
          ],
          "name": "stdout"
        }
      ]
    },
    {
      "cell_type": "code",
      "metadata": {
        "colab": {
          "base_uri": "https://localhost:8080/"
        },
        "id": "ZIF0TGLt0t5Y",
        "outputId": "a3513bb2-664e-4415-ae20-187a4612fbac"
      },
      "source": [
        "df.dtypes"
      ],
      "execution_count": null,
      "outputs": [
        {
          "output_type": "execute_result",
          "data": {
            "text/plain": [
              "iyear                int64\n",
              "extended             int64\n",
              "country_txt         object\n",
              "region_txt          object\n",
              "provstate           object\n",
              "city                object\n",
              "latitude           float64\n",
              "longitude          float64\n",
              "multiple           float64\n",
              "success              int64\n",
              "suicide              int64\n",
              "attacktype1_txt     object\n",
              "targtype1_txt       object\n",
              "gname               object\n",
              "nperps             float64\n",
              "claimed            float64\n",
              "weaptype1_txt       object\n",
              "nkill              float64\n",
              "nkillter           float64\n",
              "nwound             float64\n",
              "nwoundte           float64\n",
              "property             int64\n",
              "propextent_txt      object\n",
              "dtype: object"
            ]
          },
          "metadata": {
            "tags": []
          },
          "execution_count": 122
        }
      ]
    },
    {
      "cell_type": "markdown",
      "metadata": {
        "id": "l_EefYsU32ci"
      },
      "source": [
        "**Unknows in numric columns**"
      ]
    },
    {
      "cell_type": "code",
      "metadata": {
        "id": "8Xa1oyTe33Hx"
      },
      "source": [
        "exclude_cols= ['iyear','latitude','longitude']\n",
        "float_cols =[c for c in df.select_dtypes(include=[float]).columns.tolist() if c not in exclude_cols]"
      ],
      "execution_count": null,
      "outputs": []
    },
    {
      "cell_type": "markdown",
      "metadata": {
        "id": "-IhIlvBn4QqV"
      },
      "source": [
        "> We dont want any NANs as they convert the column to dtype = float"
      ]
    },
    {
      "cell_type": "markdown",
      "metadata": {
        "id": "s7MimWMn4XuM"
      },
      "source": [
        "**Convert unknows into Negative**"
      ]
    },
    {
      "cell_type": "code",
      "metadata": {
        "id": "tsFdBIwe4Tji"
      },
      "source": [
        "df[float_cols] = df[float_cols].fillna(0).astype(int)\n",
        "df[float_cols] = df[float_cols].mask(df[float_cols]<0,0)"
      ],
      "execution_count": null,
      "outputs": []
    },
    {
      "cell_type": "markdown",
      "metadata": {
        "id": "yxhSzjm24jaz"
      },
      "source": [
        "**Unknows in string columns**"
      ]
    },
    {
      "cell_type": "code",
      "metadata": {
        "id": "8kHRdN804m_l"
      },
      "source": [
        "str_cols = df.select_dtypes(exclude =[float]).columns.tolist()\n",
        "df[str_cols] =df[str_cols].fillna('unknow')\n",
        "# Many fields are dots which mean unknown values\n",
        "df[str_cols] = df[str_cols].replace(r'^\\,*$','unknown',regex= True)"
      ],
      "execution_count": null,
      "outputs": []
    },
    {
      "cell_type": "markdown",
      "metadata": {
        "id": "iI0G4uuM4-q1"
      },
      "source": [
        "**Number of duplicates**"
      ]
    },
    {
      "cell_type": "code",
      "metadata": {
        "colab": {
          "base_uri": "https://localhost:8080/"
        },
        "id": "aD4EcOGI4vUA",
        "outputId": "f41f91c6-01ee-4aa3-f14b-1a18de6a8216"
      },
      "source": [
        "df.duplicated().sum()"
      ],
      "execution_count": null,
      "outputs": [
        {
          "output_type": "execute_result",
          "data": {
            "text/plain": [
              "21734"
            ]
          },
          "metadata": {
            "tags": []
          },
          "execution_count": 126
        }
      ]
    },
    {
      "cell_type": "markdown",
      "metadata": {
        "id": "_l2zhR-sDp_7"
      },
      "source": [
        "> 1. After manuplating data, 21734 duplicate values found.\n",
        "> 2. we should drop the duplicates values."
      ]
    },
    {
      "cell_type": "markdown",
      "metadata": {
        "id": "svR1Uetk5Ij5"
      },
      "source": [
        "**Removal of duplicates values**"
      ]
    },
    {
      "cell_type": "code",
      "metadata": {
        "id": "6xUz5QAU5PyR"
      },
      "source": [
        "df.drop_duplicates(keep=False,inplace=True)"
      ],
      "execution_count": null,
      "outputs": []
    },
    {
      "cell_type": "markdown",
      "metadata": {
        "id": "ocR3sWZpEUPK"
      },
      "source": [
        "**is there still Null values? let's check!**"
      ]
    },
    {
      "cell_type": "code",
      "metadata": {
        "colab": {
          "base_uri": "https://localhost:8080/"
        },
        "id": "Jt5YjXgZ5o_h",
        "outputId": "85fcc62b-9409-4132-e76c-cdcaa1868a3d"
      },
      "source": [
        "df.isnull().sum().sum()"
      ],
      "execution_count": null,
      "outputs": [
        {
          "output_type": "execute_result",
          "data": {
            "text/plain": [
              "0"
            ]
          },
          "metadata": {
            "tags": []
          },
          "execution_count": 130
        }
      ]
    },
    {
      "cell_type": "markdown",
      "metadata": {
        "id": "6JBtZY2IEj61"
      },
      "source": [
        "> There no null values found. Now we are ready to get useful information from Dataset."
      ]
    },
    {
      "cell_type": "markdown",
      "metadata": {
        "id": "XPrR1g9tMwm3"
      },
      "source": [
        "# Gathering Information"
      ]
    },
    {
      "cell_type": "markdown",
      "metadata": {
        "id": "gksFd_zDUdUE"
      },
      "source": [
        "**Let's try to find out**\n",
        "> 1. Which year terrorist attacked most?\n",
        "> 2. Which Region and affected most by attack?\n",
        "> 3. Which city affected most by attack?\n",
        "> 4. What type of method terrorist used to attack?\n",
        "> 5. Most  type of Target attacked by terrorist?\n",
        "> 6. Which gang found regularly active?\n",
        "> 7. Is there any suicide happened? and \n",
        "> 8. Number of successful attack planned by terrorist?\n",
        "> 9. Is there any Unsuccessful attack by terrorist?"
      ]
    },
    {
      "cell_type": "code",
      "metadata": {
        "id": "swuqd9rEO1TS"
      },
      "source": [
        "df"
      ],
      "execution_count": null,
      "outputs": []
    },
    {
      "cell_type": "code",
      "metadata": {
        "id": "rtRLsIOqFdmU"
      },
      "source": [
        "df.info()"
      ],
      "execution_count": null,
      "outputs": []
    },
    {
      "cell_type": "code",
      "metadata": {
        "id": "EzN8VQC-HLVX"
      },
      "source": [
        "df.describe()"
      ],
      "execution_count": null,
      "outputs": []
    },
    {
      "cell_type": "markdown",
      "metadata": {
        "id": "vsQlzG1CaQ5h"
      },
      "source": [
        "**Unique values in each column of dataset**"
      ]
    },
    {
      "cell_type": "code",
      "metadata": {
        "id": "UJv9eT15NSd5"
      },
      "source": [
        "df.nunique()"
      ],
      "execution_count": null,
      "outputs": []
    },
    {
      "cell_type": "markdown",
      "metadata": {
        "id": "qJWh0iYSPMi1"
      },
      "source": [
        "**1. Which year terrorist attacked most?**"
      ]
    },
    {
      "cell_type": "code",
      "metadata": {
        "id": "PkUktpAkPKmd"
      },
      "source": [
        "df['iyear'].value_counts()"
      ],
      "execution_count": null,
      "outputs": []
    },
    {
      "cell_type": "code",
      "metadata": {
        "id": "yT3RijUMZZfv"
      },
      "source": [
        "print(f\"Maximum number of Attacked happened in Year 2014 and it was total {df['iyear'].value_counts().max()}.\")\n",
        "print(f\"The least number of Attacked happened in Year 1972 and it was total {df['iyear'].value_counts().min()}.\")"
      ],
      "execution_count": null,
      "outputs": []
    },
    {
      "cell_type": "markdown",
      "metadata": {
        "id": "7wuSO6NzPy_1"
      },
      "source": [
        "**2. Which Region affected most by attack?**"
      ]
    },
    {
      "cell_type": "code",
      "metadata": {
        "id": "9xIe6e-Qffyz"
      },
      "source": [
        "df['region_txt'].value_counts()"
      ],
      "execution_count": null,
      "outputs": []
    },
    {
      "cell_type": "code",
      "metadata": {
        "id": "KKeog6cXa8gw"
      },
      "source": [
        "print(f\"Maximum number of Attacked happened in Region SOUTH ASIA and it was total {df['region_txt'].value_counts().max()}.\")\n",
        "print(f\"The least number of Attacked happened in Region Australasia & Oceania and it was total {df['region_txt'].value_counts().min()}.\")"
      ],
      "execution_count": null,
      "outputs": []
    },
    {
      "cell_type": "markdown",
      "metadata": {
        "id": "FWByENXspgpP"
      },
      "source": [
        "**3. Which city affected most by attack?**"
      ]
    },
    {
      "cell_type": "code",
      "metadata": {
        "id": "C5RVd5Pdpjyq"
      },
      "source": [
        "df[\"city\"].value_counts()"
      ],
      "execution_count": null,
      "outputs": []
    },
    {
      "cell_type": "code",
      "metadata": {
        "id": "1YjC1_2bbtPa"
      },
      "source": [
        "print(f\"Most affacted city was Unknown and it was attacked {df['city'].value_counts().max()} times.\")\n",
        "print(f\"The least affected city was Sakadra and it was attacked {df['city'].value_counts().min()} times.\")"
      ],
      "execution_count": null,
      "outputs": []
    },
    {
      "cell_type": "markdown",
      "metadata": {
        "id": "JrHS7hnaputI"
      },
      "source": [
        "**4. What type of method terrorist used to attack most?**"
      ]
    },
    {
      "cell_type": "code",
      "metadata": {
        "id": "AoSXjRLUpy7y"
      },
      "source": [
        "df[\"attacktype1_txt\"].value_counts()"
      ],
      "execution_count": null,
      "outputs": []
    },
    {
      "cell_type": "code",
      "metadata": {
        "id": "-i_sLNyodFSo"
      },
      "source": [
        "print(f\"The most used attacked method was Bombing/Explosion and it used {df['attacktype1_txt'].value_counts().max()} times.\")\n",
        "print(f\"The least attacked method was Hijacking and it was used {df['attacktype1_txt'].value_counts().min()} times.\")"
      ],
      "execution_count": null,
      "outputs": []
    },
    {
      "cell_type": "markdown",
      "metadata": {
        "id": "gNxfna3Cp3y1"
      },
      "source": [
        "**5. Most type of Targetted attacked by terrorist?**"
      ]
    },
    {
      "cell_type": "code",
      "metadata": {
        "id": "fAwmB8Bhp5A4"
      },
      "source": [
        "df[\"targtype1_txt\"].value_counts()"
      ],
      "execution_count": null,
      "outputs": []
    },
    {
      "cell_type": "code",
      "metadata": {
        "colab": {
          "base_uri": "https://localhost:8080/"
        },
        "id": "xAS_wR4ojLOO",
        "outputId": "55a5c7a2-39e4-4685-c66d-224ca13b54a2"
      },
      "source": [
        "print(f\"The most Targetted type was Private Citizens & Property and it attacked {df['targtype1_txt'].value_counts().max()} times.\")\n",
        "print(f\"The least attacked method was Other and it was attacked {df['targtype1_txt'].value_counts().min()} times.\")"
      ],
      "execution_count": null,
      "outputs": [
        {
          "output_type": "stream",
          "text": [
            "The most Targetted type was Private Citizens & Property and it attacked 34521 times.\n",
            "The least attacked method was Other and it was attacked 122 times.\n"
          ],
          "name": "stdout"
        }
      ]
    },
    {
      "cell_type": "markdown",
      "metadata": {
        "id": "yQ8x8mXepGQl"
      },
      "source": [
        "**6. Which gang found regularly active?**"
      ]
    },
    {
      "cell_type": "code",
      "metadata": {
        "colab": {
          "base_uri": "https://localhost:8080/"
        },
        "id": "P0JuqnjcpZkU",
        "outputId": "0b521d17-3224-4c62-b5bf-56c0ae3dd091"
      },
      "source": [
        "df[\"gname\"].value_counts()"
      ],
      "execution_count": null,
      "outputs": [
        {
          "output_type": "execute_result",
          "data": {
            "text/plain": [
              "Unknown                                              65968\n",
              "Taliban                                               7130\n",
              "Islamic State of Iraq and the Levant (ISIL)           4636\n",
              "Al-Shabaab                                            2854\n",
              "Shining Path (SL)                                     2702\n",
              "                                                     ...  \n",
              "Gholam Yahya Akbar                                       1\n",
              "Gaddafi loyalists                                        1\n",
              "Youth Movement for the Total Liberation of Azawad        1\n",
              "Togolese Peoples Rally                                   1\n",
              "Revolutionary Action Groups                              1\n",
              "Name: gname, Length: 3398, dtype: int64"
            ]
          },
          "metadata": {
            "tags": []
          },
          "execution_count": 153
        }
      ]
    },
    {
      "cell_type": "code",
      "metadata": {
        "colab": {
          "base_uri": "https://localhost:8080/"
        },
        "id": "MNd8OZrckdFs",
        "outputId": "b26518e6-19b9-4c63-843f-93ecd7fd06f0"
      },
      "source": [
        "print(f\"The regularly active gang was Unknown and it attacked {df['gname'].value_counts().max()} times.\")\n",
        "print(f\"The second most active gang was TALIBAN and it attacked 7130 times\")\n",
        "print(f\"The least active gang was Revolutionary Action Groups and it attacked {df['gname'].value_counts().min()} times.\")"
      ],
      "execution_count": null,
      "outputs": [
        {
          "output_type": "stream",
          "text": [
            "The regularly active gang was Unknown and it attacked 65968 times.\n",
            "The second most active gang was TALIBAN and it attacked 7130 times\n",
            "The least active gang was Revolutionary Action Groups and it attacked 1 times.\n"
          ],
          "name": "stdout"
        }
      ]
    },
    {
      "cell_type": "markdown",
      "metadata": {
        "id": "tHlY1DUHTPE9"
      },
      "source": [
        "**7. Is there any suicide happened?**"
      ]
    },
    {
      "cell_type": "code",
      "metadata": {
        "colab": {
          "base_uri": "https://localhost:8080/"
        },
        "id": "DtbzAQ-jS349",
        "outputId": "cac31f63-a95f-4691-af52-ad333dfedf5b"
      },
      "source": [
        "df['suicide'].value_counts()"
      ],
      "execution_count": null,
      "outputs": [
        {
          "output_type": "execute_result",
          "data": {
            "text/plain": [
              "0    139753\n",
              "1      6388\n",
              "Name: suicide, dtype: int64"
            ]
          },
          "metadata": {
            "tags": []
          },
          "execution_count": 159
        }
      ]
    },
    {
      "cell_type": "code",
      "metadata": {
        "colab": {
          "base_uri": "https://localhost:8080/"
        },
        "id": "uIB5roJvl9bm",
        "outputId": "11585618-f310-4e4f-9e5b-56a530e7c29e"
      },
      "source": [
        "print(\"Yes. The total number of suicide happened in these 47 years was 6388.\")"
      ],
      "execution_count": null,
      "outputs": [
        {
          "output_type": "stream",
          "text": [
            "Yes. The total number of suicide happened in these 47 years was 6388.\n"
          ],
          "name": "stdout"
        }
      ]
    },
    {
      "cell_type": "markdown",
      "metadata": {
        "id": "2aZFm7vbm58J"
      },
      "source": [
        "**8. Number of successful attack planned by terrorist?**"
      ]
    },
    {
      "cell_type": "code",
      "metadata": {
        "colab": {
          "base_uri": "https://localhost:8080/"
        },
        "id": "NV0rH20VUSJA",
        "outputId": "50971fba-feff-458c-a8f7-6011e876c43f"
      },
      "source": [
        "df[\"success\"].value_counts()"
      ],
      "execution_count": null,
      "outputs": [
        {
          "output_type": "execute_result",
          "data": {
            "text/plain": [
              "1    129477\n",
              "0     16664\n",
              "Name: success, dtype: int64"
            ]
          },
          "metadata": {
            "tags": []
          },
          "execution_count": 210
        }
      ]
    },
    {
      "cell_type": "code",
      "metadata": {
        "colab": {
          "base_uri": "https://localhost:8080/"
        },
        "id": "ASB_aFZ3nImS",
        "outputId": "759be330-4dde-46c8-f4dd-f3b476301c06"
      },
      "source": [
        "print(\"The total successful attacked in 47 years was 129477.\")"
      ],
      "execution_count": null,
      "outputs": [
        {
          "output_type": "stream",
          "text": [
            "The total successful attacked in 47 years was 129477.\n"
          ],
          "name": "stdout"
        }
      ]
    },
    {
      "cell_type": "markdown",
      "metadata": {
        "id": "14RhIQTZnZ1w"
      },
      "source": [
        "**9. Number of successful attack by terrorist?**"
      ]
    },
    {
      "cell_type": "code",
      "metadata": {
        "colab": {
          "base_uri": "https://localhost:8080/"
        },
        "id": "V_YktWNanYOC",
        "outputId": "ce40377b-bcde-469a-e5da-6517315740cd"
      },
      "source": [
        "print(\"YES. The total UNsuccessful attacked in 47 years was 16664.\")"
      ],
      "execution_count": null,
      "outputs": [
        {
          "output_type": "stream",
          "text": [
            "YES. The total UNsuccessful attacked in 47 years was 16664.\n"
          ],
          "name": "stdout"
        }
      ]
    },
    {
      "cell_type": "markdown",
      "metadata": {
        "id": "p52VnGudom7h"
      },
      "source": [
        ">Now we have Answers of all questions "
      ]
    },
    {
      "cell_type": "code",
      "metadata": {
        "id": "xQQhHsphHTrA"
      },
      "source": [
        "df.corr()"
      ],
      "execution_count": null,
      "outputs": []
    },
    {
      "cell_type": "code",
      "metadata": {
        "id": "BZMTYW2JIXH8"
      },
      "source": [
        "df.cov()"
      ],
      "execution_count": null,
      "outputs": []
    },
    {
      "cell_type": "markdown",
      "metadata": {
        "id": "1LK06X2hpI6b"
      },
      "source": [
        "#visualization of data"
      ]
    },
    {
      "cell_type": "code",
      "metadata": {
        "id": "YjRP-d76IHY1"
      },
      "source": [
        "fig,axes = plt.subplots(1,1,figsize=(16,14))\n",
        "sns.heatmap(df.corr(),annot=True)\n",
        "plt.show()"
      ],
      "execution_count": null,
      "outputs": []
    },
    {
      "cell_type": "code",
      "metadata": {
        "id": "ky2qp0dKIeQC"
      },
      "source": [
        "fig,axes = plt.subplots(1,1,figsize=(16,14))\n",
        "sns.heatmap(df.cov(), annot=True)\n",
        "plt.show()"
      ],
      "execution_count": null,
      "outputs": []
    }
  ]
}